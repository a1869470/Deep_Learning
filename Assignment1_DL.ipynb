{
  "nbformat": 4,
  "nbformat_minor": 0,
  "metadata": {
    "colab": {
      "provenance": [],
      "authorship_tag": "ABX9TyMQc1IGB+47YAqEwuExI39Z",
      "include_colab_link": true
    },
    "kernelspec": {
      "name": "python3",
      "display_name": "Python 3"
    },
    "language_info": {
      "name": "python"
    }
  },
  "cells": [
    {
      "cell_type": "markdown",
      "metadata": {
        "id": "view-in-github",
        "colab_type": "text"
      },
      "source": [
        "<a href=\"https://colab.research.google.com/github/a1869470/Deep_Learning/blob/main/Assignment1_DL.ipynb\" target=\"_parent\"><img src=\"https://colab.research.google.com/assets/colab-badge.svg\" alt=\"Open In Colab\"/></a>"
      ]
    },
    {
      "cell_type": "code",
      "source": [
        "import torch\n",
        "import torch.nn as nn\n",
        "import torch.optim as optim\n",
        "from torch.utils.data import DataLoader, TensorDataset\n",
        "from sklearn.model_selection import train_test_split\n",
        "from sklearn.datasets import load_svmlight_file\n",
        "import urllib.request\n",
        "\n",
        "# Storing the pre-processed data into a variable and retrieving it\n",
        "data_url = \"https://www.csie.ntu.edu.tw/~cjlin/libsvmtools/datasets/binary/diabetes_scale\"\n",
        "urllib.request.urlretrieve(data_url, \"diabetes_scale\")\n",
        "\n",
        "# Loading the data using SVMLight format of sklearn as the data is in SVMLight format\n",
        "X, y = load_svmlight_file(\"diabetes_scale\")\n",
        "\n",
        "# Pre-processing to convert y to PyTorch tensors (changing class labels from -1 to 0 as pytorch's binary classifcation expects 0 and 1)\n",
        "y = torch.tensor((y + 1) / 2, dtype=torch.float32)\n",
        "\n",
        "# Splitting the data into train and test sets\n",
        "X_train, X_test, y_train, y_test = train_test_split(X, y, test_size=0.2, random_state=42)\n",
        "\n",
        "# Converting data to PyTorch tensors\n",
        "X_train = torch.tensor(X_train.toarray(), dtype=torch.float32)\n",
        "X_test = torch.tensor(X_test.toarray(), dtype=torch.float32)\n",
        "\n",
        "# The Perceptron model with ReLU activation\n",
        "class Perceptron(nn.Module):\n",
        "    def __init__(self, input_size):\n",
        "        super(Perceptron, self).__init__()\n",
        "        self.fc = nn.Linear(input_size, 1)\n",
        "        self.relu = nn.ReLU()  # ReLU activation fuction\n",
        "\n",
        "    def forward(self, x):\n",
        "        x = self.fc(x)\n",
        "        x = self.relu(x)  # Apply ReLU activation\n",
        "        return x\n",
        "\n",
        "# Create DataLoader objects\n",
        "batch_size = 128 #Hyperparameter 1\n",
        "train_data = TensorDataset(X_train, y_train)\n",
        "train_loader = DataLoader(train_data, batch_size=batch_size, shuffle=True)\n",
        "\n",
        "# Initialize the model, loss function, and optimizer\n",
        "input_size = X_train.shape[1]\n",
        "model = Perceptron(input_size)\n",
        "criterion = nn.BCEWithLogitsLoss()  # Binary Cross-Entropy Loss\n",
        "optimizer = optim.SGD(model.parameters(), lr=0.1)  # Stochastic Gradient Descent and lr as hyperparameter 3\n",
        "\n",
        "# Train the model\n",
        "num_epochs = 1000 #Hyperparameter 2\n",
        "for epoch in range(num_epochs): #Training loop\n",
        "    for inputs, labels in train_loader:\n",
        "        optimizer.zero_grad()\n",
        "        outputs = model(inputs)\n",
        "        loss = criterion(outputs.view(-1), labels)\n",
        "        loss.backward()\n",
        "        optimizer.step()\n",
        "\n",
        "# Evaluate the model on the test set\n",
        "model.eval()\n",
        "with torch.no_grad():\n",
        "    test_outputs = model(X_test)\n",
        "    predicted_labels = (test_outputs > 0).float()\n",
        "\n",
        "accuracy = (predicted_labels == y_test.view(-1, 1)).float().mean().item()\n",
        "print(f\"Accuracy on the test set: {accuracy * 100:.2f}%\")\n",
        "\n",
        "# # Check if the accuracy is above 70%\n",
        "# if accuracy > 0.70:\n",
        "#     print(\"Accuracy above 70% achieved!\")\n",
        "# else:\n",
        "#     print(\"The model did not reach the desired accuracy.\")"
      ],
      "metadata": {
        "colab": {
          "base_uri": "https://localhost:8080/"
        },
        "id": "B5sqiHdncoW1",
        "outputId": "f71e8b53-26fc-4163-af85-61dab35c5414"
      },
      "execution_count": 252,
      "outputs": [
        {
          "output_type": "stream",
          "name": "stdout",
          "text": [
            "Accuracy on the test set: 73.38%\n"
          ]
        }
      ]
    },
    {
      "cell_type": "code",
      "source": [],
      "metadata": {
        "id": "x0lCbYkheNLU"
      },
      "execution_count": null,
      "outputs": []
    }
  ]
}