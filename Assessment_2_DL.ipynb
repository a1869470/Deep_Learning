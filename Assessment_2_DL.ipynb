{
  "nbformat": 4,
  "nbformat_minor": 0,
  "metadata": {
    "colab": {
      "provenance": [],
      "authorship_tag": "ABX9TyPqii0XUOlpMHYUJHJ02Vtn",
      "include_colab_link": true
    },
    "kernelspec": {
      "name": "python3",
      "display_name": "Python 3"
    },
    "language_info": {
      "name": "python"
    }
  },
  "cells": [
    {
      "cell_type": "markdown",
      "metadata": {
        "id": "view-in-github",
        "colab_type": "text"
      },
      "source": [
        "<a href=\"https://colab.research.google.com/github/a1869470/Deep_Learning/blob/main/Assessment_2_DL.ipynb\" target=\"_parent\"><img src=\"https://colab.research.google.com/assets/colab-badge.svg\" alt=\"Open In Colab\"/></a>"
      ]
    },
    {
      "cell_type": "code",
      "source": [
        "import tensorflow as tf\n",
        "from tensorflow.keras.datasets import cifar10\n",
        "from tensorflow.keras.applications import ResNet50, VGG16, MobileNet, Xception, DenseNet121\n",
        "from tensorflow.keras.layers import Dense, GlobalAveragePooling2D\n",
        "from tensorflow.keras.models import Model\n",
        "from tensorflow.keras.optimizers import Adam\n",
        "from tensorflow.keras.utils import to_categorical\n",
        "import matplotlib.pyplot as plt\n",
        "\n",
        "# Load CIFAR-10 dataset\n",
        "(x_train, y_train), (x_test, y_test) = cifar10.load_data()\n",
        "num_classes = 10\n",
        "\n",
        "# Preprocess the data\n",
        "x_train = x_train.astype('float32') / 255.0\n",
        "x_test = x_test.astype('float32') / 255.0\n",
        "y_train = to_categorical(y_train, num_classes)\n",
        "y_test = to_categorical(y_test, num_classes)\n",
        "\n",
        "# Define function to create a CNN model\n",
        "def create_cnn_model(base_model, num_classes):\n",
        "    x = base_model.output\n",
        "    x = GlobalAveragePooling2D()(x)\n",
        "    x = Dense(1024, activation='relu')(x)\n",
        "    predictions = Dense(num_classes, activation='softmax')(x)\n",
        "    model = Model(inputs=base_model.input, outputs=predictions)\n",
        "    return model\n",
        "\n",
        "# Create and compile models\n",
        "resnet_model = create_cnn_model(ResNet50(weights='imagenet', include_top=False), num_classes)\n",
        "vgg_model = create_cnn_model(VGG16(weights='imagenet', include_top=False), num_classes)\n",
        "# inception_model = create_cnn_model(InceptionV3(weights='imagenet', include_top=False), num_classes)\n",
        "mobilenet_model = create_cnn_model(MobileNet(weights='imagenet', include_top=False), num_classes)\n",
        "xception_model = create_cnn_model(Xception(weights='imagenet', include_top=False), num_classes)\n",
        "densenet_model = create_cnn_model(DenseNet121(weights='imagenet', include_top=False), num_classes)\n",
        "\n",
        "# Compile models\n",
        "# for model in [resnet_model, vgg_model, mobilenet_model, xception_model]:\n",
        "for model in [resnet_model,vgg_model,mobilenet_model,densenet_model,xception_model]:\n",
        "    model.compile(optimizer=Adam(learning_rate=0.0001), loss='categorical_crossentropy', metrics=['accuracy'])\n",
        "\n",
        "# Train and evaluate models\n",
        "# models = [resnet_model, vgg_model, mobilenet_model, xception_model]\n",
        "models = [resnet_model,vgg_model,mobilenet_model, densenet_model,xception_model]\n",
        "# model_names = ['ResNet', 'VGG', 'MobileNet', 'Xception', 'DenseNet121']\n",
        "model_names = ['ResNet','VGG','MobileNet','DenseNet121','Xception']\n",
        "\n",
        "histories = []\n",
        "\n",
        "for model, model_name in zip(models, model_names):\n",
        "    print(f\"Training {model_name}...\")\n",
        "    history = model.fit(x_train, y_train, epochs=2, batch_size=32, validation_data=(x_test, y_test))\n",
        "    histories.append(history)\n",
        "    score = model.evaluate(x_test, y_test, verbose=0)\n",
        "    print(f\"{model_name} - Test loss: {score[0]}; Test accuracy: {score[1]}\")\n",
        "\n",
        "for i, history in enumerate(histories):\n",
        "    plt.plot(history.history['val_accuracy'], label=f'Model {i + 1}')\n",
        "\n",
        "plt.xlabel('Epoch')\n",
        "plt.ylabel('Validation Accuracy')\n",
        "plt.legend()\n",
        "plt.show()"
      ],
      "metadata": {
        "id": "Y-W_Gc-feMeQ"
      },
      "execution_count": null,
      "outputs": []
    }
  ]
}